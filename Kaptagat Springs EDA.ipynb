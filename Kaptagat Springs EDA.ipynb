{
 "cells": [
  {
   "cell_type": "markdown",
   "id": "1c2a4089-e8cb-4738-82aa-8a60ea0b572b",
   "metadata": {},
   "source": [
    "# Exploratory data analysis in Python.\r\n"
   ]
  },
  {
   "cell_type": "markdown",
   "id": "65fc1b91-8629-4424-b2b3-1364ad27b6dc",
   "metadata": {},
   "source": [
    "## Introduction\n",
    "\n",
    "## What is Exploratory Data Analysis ?\n",
    "\n",
    "Exploratory Data Analysis or (EDA) is understanding the data sets by summarizing their main characteristics often plotting them visually. This step is very important especially when we arrive at modeling the data in order to apply Machine learning. Plotting in EDA consists of Histograms, Box plot, Scatter plot and many more. It often takes much time to explore the data. Through the process of EDA, we can ask to define the problem statement or definition on our data set which is very important.\n",
    "\n",
    "## How to perform Exploratory Data Analysis ?\n",
    "his is one such question that everyone is keen on knowing the answer. Well, the answer is it depends on the data set that you are working. There is no one method or common methods in order to perform EDA, whereas in this tutorial you can understand some common methods and plots that would be used in the EDA process.\n",
    "\n",
    "## What data are we exploring today ?\n",
    "\n",
    "Since I am a huge fan of cars, I got a very beautiful data-set of cars from Kaggle. The data-set can be downloaded from here. To give a piece of brief information about the data set this data contains more of 10, 000 rows and more than 10 columns which contains features of the car such as Engine Fuel Type, Engine HP, Transmission Type, highway MPG, city MPG and many more. So in this tutorial, we will explore the data and make it ready for modeling."
   ]
  },
  {
   "cell_type": "markdown",
   "id": "29c6d2d0-f11a-43ea-8241-ac9bbc377ee4",
   "metadata": {},
   "source": [
    "## 1. Importing the required libraries for EDA\n",
    "Below are the libraries that are used in order to perform EDA (Exploratory data analysis) in this demonstartion"
   ]
  },
  {
   "cell_type": "code",
   "execution_count": 1,
   "id": "33396151-0f7f-4ebc-a172-fa9870f37466",
   "metadata": {},
   "outputs": [],
   "source": [
    "import pandas as pd\n",
    "import numpy as np\n",
    "import seaborn as sns                       #visualisation\n",
    "import matplotlib.pyplot as plt             #visualisation\n",
    "%matplotlib inline     \n",
    "sns.set(color_codes=True)"
   ]
  },
  {
   "cell_type": "markdown",
   "id": "a2b98c52-3a28-485c-a9ee-f1f07cba053b",
   "metadata": {},
   "source": [
    "## 2.Loading the data into the data frame."
   ]
  },
  {
   "cell_type": "markdown",
   "id": "c74cab5e-611b-4ad6-9691-78c95bf3b363",
   "metadata": {},
   "source": [
    "Loading the data into the pandas data frame is certainly one of the most important steps in EDA, as we can see that the value from the data set is comma-separated. So all we have to do is to just read the CSV into a data frame and pandas data frame does the job for us."
   ]
  },
  {
   "cell_type": "markdown",
   "id": "d37db262-4bbd-439f-bbd4-5aab53c29c07",
   "metadata": {},
   "source": [
    "To get or load the dataset into the notebook, all I did was one trivial step. In Google Colab at the left-hand side of the notebook, you will find a > (greater than symbol). When you click that you will find a tab with three options, you just have to select Files. Then you can easily upload your file with the help of the Upload option. No need to mount to the google drive or use any specific libraries just upload the data set and your job is done. One thing to remember in this step is that uploaded files will get deleted when this runtime is recycled. This is how I got the data set into the notebook.\n",
    "\n"
   ]
  },
  {
   "cell_type": "code",
   "execution_count": 2,
   "id": "d5c7cc11-20bc-415a-a9a9-3cecd619d1a8",
   "metadata": {},
   "outputs": [
    {
     "data": {
      "text/html": [
       "<div>\n",
       "<style scoped>\n",
       "    .dataframe tbody tr th:only-of-type {\n",
       "        vertical-align: middle;\n",
       "    }\n",
       "\n",
       "    .dataframe tbody tr th {\n",
       "        vertical-align: top;\n",
       "    }\n",
       "\n",
       "    .dataframe thead th {\n",
       "        text-align: right;\n",
       "    }\n",
       "</style>\n",
       "<table border=\"1\" class=\"dataframe\">\n",
       "  <thead>\n",
       "    <tr style=\"text-align: right;\">\n",
       "      <th></th>\n",
       "      <th>Customer ID</th>\n",
       "      <th>Qty Ordered</th>\n",
       "      <th>Unit Price</th>\n",
       "      <th>Total Sales</th>\n",
       "      <th>Invoice Date</th>\n",
       "      <th>Shipping Status</th>\n",
       "      <th>Year</th>\n",
       "      <th>Product Type</th>\n",
       "      <th>MSRP</th>\n",
       "      <th>Product Code</th>\n",
       "      <th>Customer Name</th>\n",
       "    </tr>\n",
       "  </thead>\n",
       "  <tbody>\n",
       "    <tr>\n",
       "      <th>0</th>\n",
       "      <td>10100</td>\n",
       "      <td>30</td>\n",
       "      <td>30</td>\n",
       "      <td>900</td>\n",
       "      <td>1/6/2013 0:00</td>\n",
       "      <td>Shipped</td>\n",
       "      <td>2013</td>\n",
       "      <td>500 ml</td>\n",
       "      <td>170</td>\n",
       "      <td>S18_1749</td>\n",
       "      <td>Sirikwa Hotel</td>\n",
       "    </tr>\n",
       "    <tr>\n",
       "      <th>1</th>\n",
       "      <td>10100</td>\n",
       "      <td>50</td>\n",
       "      <td>30</td>\n",
       "      <td>1500</td>\n",
       "      <td>1/6/2013 0:00</td>\n",
       "      <td>Shipped</td>\n",
       "      <td>2013</td>\n",
       "      <td>500 ml</td>\n",
       "      <td>60</td>\n",
       "      <td>S18_2248</td>\n",
       "      <td>Sirikwa Hotel</td>\n",
       "    </tr>\n",
       "    <tr>\n",
       "      <th>2</th>\n",
       "      <td>10100</td>\n",
       "      <td>22</td>\n",
       "      <td>30</td>\n",
       "      <td>660</td>\n",
       "      <td>1/6/2013 0:00</td>\n",
       "      <td>Shipped</td>\n",
       "      <td>2013</td>\n",
       "      <td>500 ml</td>\n",
       "      <td>92</td>\n",
       "      <td>S18_4409</td>\n",
       "      <td>Sirikwa Hotel</td>\n",
       "    </tr>\n",
       "    <tr>\n",
       "      <th>3</th>\n",
       "      <td>10100</td>\n",
       "      <td>49</td>\n",
       "      <td>30</td>\n",
       "      <td>1470</td>\n",
       "      <td>1/6/2013 0:00</td>\n",
       "      <td>Shipped</td>\n",
       "      <td>2013</td>\n",
       "      <td>500 ml</td>\n",
       "      <td>41</td>\n",
       "      <td>S24_3969</td>\n",
       "      <td>Sirikwa Hotel</td>\n",
       "    </tr>\n",
       "    <tr>\n",
       "      <th>4</th>\n",
       "      <td>10101</td>\n",
       "      <td>25</td>\n",
       "      <td>30</td>\n",
       "      <td>750</td>\n",
       "      <td>1/9/2013 0:00</td>\n",
       "      <td>Shipped</td>\n",
       "      <td>2013</td>\n",
       "      <td>500 ml</td>\n",
       "      <td>127</td>\n",
       "      <td>S18_2325</td>\n",
       "      <td>Sirikwa Hotel</td>\n",
       "    </tr>\n",
       "  </tbody>\n",
       "</table>\n",
       "</div>"
      ],
      "text/plain": [
       "   Customer ID  Qty Ordered  Unit Price  Total Sales   Invoice Date  \\\n",
       "0        10100           30          30          900  1/6/2013 0:00   \n",
       "1        10100           50          30         1500  1/6/2013 0:00   \n",
       "2        10100           22          30          660  1/6/2013 0:00   \n",
       "3        10100           49          30         1470  1/6/2013 0:00   \n",
       "4        10101           25          30          750  1/9/2013 0:00   \n",
       "\n",
       "  Shipping Status  Year Product Type  MSRP Product Code  Customer Name  \n",
       "0         Shipped  2013       500 ml   170     S18_1749  Sirikwa Hotel  \n",
       "1         Shipped  2013       500 ml    60     S18_2248  Sirikwa Hotel  \n",
       "2         Shipped  2013       500 ml    92     S18_4409  Sirikwa Hotel  \n",
       "3         Shipped  2013       500 ml    41     S24_3969  Sirikwa Hotel  \n",
       "4         Shipped  2013       500 ml   127     S18_2325  Sirikwa Hotel  "
      ]
     },
     "execution_count": 2,
     "metadata": {},
     "output_type": "execute_result"
    }
   ],
   "source": [
    "kaptagat_springs_df = pd.read_csv(r\"D:\\Coding Projects\\Business Analytics\\Sales Insights\\Kaptagat Springs Project\\Kapatgat-Springs-Sales-Insights Power BI\\Python EDA\\Kaptagat Springs Sales Insights.csv\")\n",
    "# To display the top 5 rows \n",
    "kaptagat_springs_df.head(5)   "
   ]
  },
  {
   "cell_type": "code",
   "execution_count": 3,
   "id": "660c25fe-0a6a-47a0-acf4-c6ae46ad2e82",
   "metadata": {},
   "outputs": [
    {
     "data": {
      "text/html": [
       "<div>\n",
       "<style scoped>\n",
       "    .dataframe tbody tr th:only-of-type {\n",
       "        vertical-align: middle;\n",
       "    }\n",
       "\n",
       "    .dataframe tbody tr th {\n",
       "        vertical-align: top;\n",
       "    }\n",
       "\n",
       "    .dataframe thead th {\n",
       "        text-align: right;\n",
       "    }\n",
       "</style>\n",
       "<table border=\"1\" class=\"dataframe\">\n",
       "  <thead>\n",
       "    <tr style=\"text-align: right;\">\n",
       "      <th></th>\n",
       "      <th>Customer ID</th>\n",
       "      <th>Qty Ordered</th>\n",
       "      <th>Unit Price</th>\n",
       "      <th>Total Sales</th>\n",
       "      <th>Invoice Date</th>\n",
       "      <th>Shipping Status</th>\n",
       "      <th>Year</th>\n",
       "      <th>Product Type</th>\n",
       "      <th>MSRP</th>\n",
       "      <th>Product Code</th>\n",
       "      <th>Customer Name</th>\n",
       "    </tr>\n",
       "  </thead>\n",
       "  <tbody>\n",
       "    <tr>\n",
       "      <th>2818</th>\n",
       "      <td>10361</td>\n",
       "      <td>35</td>\n",
       "      <td>25</td>\n",
       "      <td>875</td>\n",
       "      <td>12/17/2014 0:00</td>\n",
       "      <td>Shipped</td>\n",
       "      <td>2014</td>\n",
       "      <td>300 ml</td>\n",
       "      <td>74</td>\n",
       "      <td>S700_4002</td>\n",
       "      <td>Blueberry Villas</td>\n",
       "    </tr>\n",
       "    <tr>\n",
       "      <th>2819</th>\n",
       "      <td>10361</td>\n",
       "      <td>23</td>\n",
       "      <td>25</td>\n",
       "      <td>575</td>\n",
       "      <td>12/17/2014 0:00</td>\n",
       "      <td>Shipped</td>\n",
       "      <td>2014</td>\n",
       "      <td>300 ml</td>\n",
       "      <td>49</td>\n",
       "      <td>S72_1253</td>\n",
       "      <td>Blueberry Villas</td>\n",
       "    </tr>\n",
       "    <tr>\n",
       "      <th>2820</th>\n",
       "      <td>10361</td>\n",
       "      <td>34</td>\n",
       "      <td>30</td>\n",
       "      <td>1020</td>\n",
       "      <td>12/17/2014 0:00</td>\n",
       "      <td>Shipped</td>\n",
       "      <td>2014</td>\n",
       "      <td>500 ml</td>\n",
       "      <td>65</td>\n",
       "      <td>S24_3420</td>\n",
       "      <td>Blueberry Villas</td>\n",
       "    </tr>\n",
       "    <tr>\n",
       "      <th>2821</th>\n",
       "      <td>10361</td>\n",
       "      <td>49</td>\n",
       "      <td>30</td>\n",
       "      <td>1470</td>\n",
       "      <td>12/17/2014 0:00</td>\n",
       "      <td>Shipped</td>\n",
       "      <td>2014</td>\n",
       "      <td>500 ml</td>\n",
       "      <td>68</td>\n",
       "      <td>S32_4289</td>\n",
       "      <td>Blueberry Villas</td>\n",
       "    </tr>\n",
       "    <tr>\n",
       "      <th>2822</th>\n",
       "      <td>10361</td>\n",
       "      <td>33</td>\n",
       "      <td>30</td>\n",
       "      <td>990</td>\n",
       "      <td>12/17/2014 0:00</td>\n",
       "      <td>Shipped</td>\n",
       "      <td>2014</td>\n",
       "      <td>500 ml</td>\n",
       "      <td>43</td>\n",
       "      <td>S50_1341</td>\n",
       "      <td>Blueberry Villas</td>\n",
       "    </tr>\n",
       "  </tbody>\n",
       "</table>\n",
       "</div>"
      ],
      "text/plain": [
       "      Customer ID  Qty Ordered  Unit Price  Total Sales     Invoice Date  \\\n",
       "2818        10361           35          25          875  12/17/2014 0:00   \n",
       "2819        10361           23          25          575  12/17/2014 0:00   \n",
       "2820        10361           34          30         1020  12/17/2014 0:00   \n",
       "2821        10361           49          30         1470  12/17/2014 0:00   \n",
       "2822        10361           33          30          990  12/17/2014 0:00   \n",
       "\n",
       "     Shipping Status  Year Product Type  MSRP Product Code     Customer Name  \n",
       "2818         Shipped  2014       300 ml    74    S700_4002  Blueberry Villas  \n",
       "2819         Shipped  2014       300 ml    49     S72_1253  Blueberry Villas  \n",
       "2820         Shipped  2014       500 ml    65     S24_3420  Blueberry Villas  \n",
       "2821         Shipped  2014       500 ml    68     S32_4289  Blueberry Villas  \n",
       "2822         Shipped  2014       500 ml    43     S50_1341  Blueberry Villas  "
      ]
     },
     "execution_count": 3,
     "metadata": {},
     "output_type": "execute_result"
    }
   ],
   "source": [
    "kaptagat_springs_df.tail(5)"
   ]
  },
  {
   "cell_type": "markdown",
   "id": "f8805f02-6fb7-4914-85c9-ffbc89e9d3dd",
   "metadata": {},
   "source": [
    "# 3. Checking the types of data"
   ]
  },
  {
   "cell_type": "markdown",
   "id": "e3a4094d-3fa0-4448-ad06-97d799e0b517",
   "metadata": {},
   "source": [
    "Here we check for the datatypes because sometimes the MSRP or the price of the car would be stored as a string, if in that case, we have to convert that string to the integer data only then we can plot the data via a graph. Here, in this case, the data is already in integer format so nothing to worry."
   ]
  },
  {
   "cell_type": "code",
   "execution_count": 4,
   "id": "104a89c1-7dbe-4cbb-8f1d-55e296c094d0",
   "metadata": {},
   "outputs": [
    {
     "data": {
      "text/plain": [
       "Customer ID         int64\n",
       "Qty Ordered         int64\n",
       "Unit Price          int64\n",
       "Total Sales         int64\n",
       "Invoice Date       object\n",
       "Shipping Status    object\n",
       "Year                int64\n",
       "Product Type       object\n",
       "MSRP                int64\n",
       "Product Code       object\n",
       "Customer Name      object\n",
       "dtype: object"
      ]
     },
     "execution_count": 4,
     "metadata": {},
     "output_type": "execute_result"
    }
   ],
   "source": [
    "kaptagat_springs_df.dtypes"
   ]
  },
  {
   "cell_type": "markdown",
   "id": "8b1b737a-2407-48b3-80f6-8f1121e8efd7",
   "metadata": {},
   "source": [
    "## 4. Dropping irrelevant columns\r\n"
   ]
  },
  {
   "cell_type": "markdown",
   "id": "774920ce-8938-48ae-9224-e8e81eeea3ae",
   "metadata": {},
   "source": [
    "This step is certainly needed in every EDA because sometimes there would be many columns that we never use in such cases dropping is the only solution. In this case, the columns such as Engine Fuel Type, Market Category, Vehicle style, Popularity, Number of doors, Vehicle Size doesn't make any sense to me so I just dropped for this instance."
   ]
  },
  {
   "cell_type": "code",
   "execution_count": 7,
   "id": "7d48d130-884c-4ca0-9b4c-a8ea3c134899",
   "metadata": {},
   "outputs": [
    {
     "data": {
      "text/html": [
       "<div>\n",
       "<style scoped>\n",
       "    .dataframe tbody tr th:only-of-type {\n",
       "        vertical-align: middle;\n",
       "    }\n",
       "\n",
       "    .dataframe tbody tr th {\n",
       "        vertical-align: top;\n",
       "    }\n",
       "\n",
       "    .dataframe thead th {\n",
       "        text-align: right;\n",
       "    }\n",
       "</style>\n",
       "<table border=\"1\" class=\"dataframe\">\n",
       "  <thead>\n",
       "    <tr style=\"text-align: right;\">\n",
       "      <th></th>\n",
       "      <th>Customer ID</th>\n",
       "      <th>Qty Ordered</th>\n",
       "      <th>Unit Price</th>\n",
       "      <th>Total Sales</th>\n",
       "      <th>Invoice Date</th>\n",
       "      <th>Shipping Status</th>\n",
       "      <th>Year</th>\n",
       "      <th>Product Type</th>\n",
       "      <th>Customer Name</th>\n",
       "    </tr>\n",
       "  </thead>\n",
       "  <tbody>\n",
       "    <tr>\n",
       "      <th>0</th>\n",
       "      <td>10100</td>\n",
       "      <td>30</td>\n",
       "      <td>30</td>\n",
       "      <td>900</td>\n",
       "      <td>1/6/2013 0:00</td>\n",
       "      <td>Shipped</td>\n",
       "      <td>2013</td>\n",
       "      <td>500 ml</td>\n",
       "      <td>Sirikwa Hotel</td>\n",
       "    </tr>\n",
       "    <tr>\n",
       "      <th>1</th>\n",
       "      <td>10100</td>\n",
       "      <td>50</td>\n",
       "      <td>30</td>\n",
       "      <td>1500</td>\n",
       "      <td>1/6/2013 0:00</td>\n",
       "      <td>Shipped</td>\n",
       "      <td>2013</td>\n",
       "      <td>500 ml</td>\n",
       "      <td>Sirikwa Hotel</td>\n",
       "    </tr>\n",
       "    <tr>\n",
       "      <th>2</th>\n",
       "      <td>10100</td>\n",
       "      <td>22</td>\n",
       "      <td>30</td>\n",
       "      <td>660</td>\n",
       "      <td>1/6/2013 0:00</td>\n",
       "      <td>Shipped</td>\n",
       "      <td>2013</td>\n",
       "      <td>500 ml</td>\n",
       "      <td>Sirikwa Hotel</td>\n",
       "    </tr>\n",
       "    <tr>\n",
       "      <th>3</th>\n",
       "      <td>10100</td>\n",
       "      <td>49</td>\n",
       "      <td>30</td>\n",
       "      <td>1470</td>\n",
       "      <td>1/6/2013 0:00</td>\n",
       "      <td>Shipped</td>\n",
       "      <td>2013</td>\n",
       "      <td>500 ml</td>\n",
       "      <td>Sirikwa Hotel</td>\n",
       "    </tr>\n",
       "    <tr>\n",
       "      <th>4</th>\n",
       "      <td>10101</td>\n",
       "      <td>25</td>\n",
       "      <td>30</td>\n",
       "      <td>750</td>\n",
       "      <td>1/9/2013 0:00</td>\n",
       "      <td>Shipped</td>\n",
       "      <td>2013</td>\n",
       "      <td>500 ml</td>\n",
       "      <td>Sirikwa Hotel</td>\n",
       "    </tr>\n",
       "  </tbody>\n",
       "</table>\n",
       "</div>"
      ],
      "text/plain": [
       "   Customer ID  Qty Ordered  Unit Price  Total Sales   Invoice Date  \\\n",
       "0        10100           30          30          900  1/6/2013 0:00   \n",
       "1        10100           50          30         1500  1/6/2013 0:00   \n",
       "2        10100           22          30          660  1/6/2013 0:00   \n",
       "3        10100           49          30         1470  1/6/2013 0:00   \n",
       "4        10101           25          30          750  1/9/2013 0:00   \n",
       "\n",
       "  Shipping Status  Year Product Type  Customer Name  \n",
       "0         Shipped  2013       500 ml  Sirikwa Hotel  \n",
       "1         Shipped  2013       500 ml  Sirikwa Hotel  \n",
       "2         Shipped  2013       500 ml  Sirikwa Hotel  \n",
       "3         Shipped  2013       500 ml  Sirikwa Hotel  \n",
       "4         Shipped  2013       500 ml  Sirikwa Hotel  "
      ]
     },
     "execution_count": 7,
     "metadata": {},
     "output_type": "execute_result"
    }
   ],
   "source": [
    "kaptagat_springs_df = kaptagat_springs_df.drop(['MSRP', 'Product Code' ], axis=1)\n",
    "kaptagat_springs_df.head(5)"
   ]
  },
  {
   "cell_type": "markdown",
   "id": "d8964181-287d-4924-8092-9fe5092d0781",
   "metadata": {},
   "source": [
    "## 5. Renaming the columns\r\n"
   ]
  },
  {
   "cell_type": "markdown",
   "id": "8d7cce4d-4cbd-43c8-acdc-724f77245066",
   "metadata": {},
   "source": [
    "In this instance, most of the column names are very confusing to read, so I just tweaked their column names. This is a good approach it improves the readability of the data set"
   ]
  },
  {
   "cell_type": "code",
   "execution_count": 9,
   "id": "8224b5cf-e5b3-4096-a5cc-0c15beef2464",
   "metadata": {},
   "outputs": [
    {
     "data": {
      "text/html": [
       "<div>\n",
       "<style scoped>\n",
       "    .dataframe tbody tr th:only-of-type {\n",
       "        vertical-align: middle;\n",
       "    }\n",
       "\n",
       "    .dataframe tbody tr th {\n",
       "        vertical-align: top;\n",
       "    }\n",
       "\n",
       "    .dataframe thead th {\n",
       "        text-align: right;\n",
       "    }\n",
       "</style>\n",
       "<table border=\"1\" class=\"dataframe\">\n",
       "  <thead>\n",
       "    <tr style=\"text-align: right;\">\n",
       "      <th></th>\n",
       "      <th>Customer ID</th>\n",
       "      <th>Quantity Ordered</th>\n",
       "      <th>Unit Price</th>\n",
       "      <th>Total Sales</th>\n",
       "      <th>Transaction Date</th>\n",
       "      <th>Shipping Status</th>\n",
       "      <th>Year</th>\n",
       "      <th>Product Type</th>\n",
       "      <th>Customer Name</th>\n",
       "    </tr>\n",
       "  </thead>\n",
       "  <tbody>\n",
       "    <tr>\n",
       "      <th>0</th>\n",
       "      <td>10100</td>\n",
       "      <td>30</td>\n",
       "      <td>30</td>\n",
       "      <td>900</td>\n",
       "      <td>1/6/2013 0:00</td>\n",
       "      <td>Shipped</td>\n",
       "      <td>2013</td>\n",
       "      <td>500 ml</td>\n",
       "      <td>Sirikwa Hotel</td>\n",
       "    </tr>\n",
       "    <tr>\n",
       "      <th>1</th>\n",
       "      <td>10100</td>\n",
       "      <td>50</td>\n",
       "      <td>30</td>\n",
       "      <td>1500</td>\n",
       "      <td>1/6/2013 0:00</td>\n",
       "      <td>Shipped</td>\n",
       "      <td>2013</td>\n",
       "      <td>500 ml</td>\n",
       "      <td>Sirikwa Hotel</td>\n",
       "    </tr>\n",
       "    <tr>\n",
       "      <th>2</th>\n",
       "      <td>10100</td>\n",
       "      <td>22</td>\n",
       "      <td>30</td>\n",
       "      <td>660</td>\n",
       "      <td>1/6/2013 0:00</td>\n",
       "      <td>Shipped</td>\n",
       "      <td>2013</td>\n",
       "      <td>500 ml</td>\n",
       "      <td>Sirikwa Hotel</td>\n",
       "    </tr>\n",
       "    <tr>\n",
       "      <th>3</th>\n",
       "      <td>10100</td>\n",
       "      <td>49</td>\n",
       "      <td>30</td>\n",
       "      <td>1470</td>\n",
       "      <td>1/6/2013 0:00</td>\n",
       "      <td>Shipped</td>\n",
       "      <td>2013</td>\n",
       "      <td>500 ml</td>\n",
       "      <td>Sirikwa Hotel</td>\n",
       "    </tr>\n",
       "    <tr>\n",
       "      <th>4</th>\n",
       "      <td>10101</td>\n",
       "      <td>25</td>\n",
       "      <td>30</td>\n",
       "      <td>750</td>\n",
       "      <td>1/9/2013 0:00</td>\n",
       "      <td>Shipped</td>\n",
       "      <td>2013</td>\n",
       "      <td>500 ml</td>\n",
       "      <td>Sirikwa Hotel</td>\n",
       "    </tr>\n",
       "  </tbody>\n",
       "</table>\n",
       "</div>"
      ],
      "text/plain": [
       "   Customer ID  Quantity Ordered  Unit Price  Total Sales Transaction Date  \\\n",
       "0        10100                30          30          900    1/6/2013 0:00   \n",
       "1        10100                50          30         1500    1/6/2013 0:00   \n",
       "2        10100                22          30          660    1/6/2013 0:00   \n",
       "3        10100                49          30         1470    1/6/2013 0:00   \n",
       "4        10101                25          30          750    1/9/2013 0:00   \n",
       "\n",
       "  Shipping Status  Year Product Type  Customer Name  \n",
       "0         Shipped  2013       500 ml  Sirikwa Hotel  \n",
       "1         Shipped  2013       500 ml  Sirikwa Hotel  \n",
       "2         Shipped  2013       500 ml  Sirikwa Hotel  \n",
       "3         Shipped  2013       500 ml  Sirikwa Hotel  \n",
       "4         Shipped  2013       500 ml  Sirikwa Hotel  "
      ]
     },
     "execution_count": 9,
     "metadata": {},
     "output_type": "execute_result"
    }
   ],
   "source": [
    "kaptagat_springs_df = kaptagat_springs_df.rename(columns={'Invoice Date':'Transaction Date','Qty Ordered':'Quantity Ordered'})\n",
    "kaptagat_springs_df.head(5)"
   ]
  },
  {
   "cell_type": "markdown",
   "id": "f2aa6169-ce2c-431f-97fb-9e66706a3d21",
   "metadata": {},
   "source": [
    "## 6.Dropping the duplicate rows\n"
   ]
  },
  {
   "cell_type": "markdown",
   "id": "cfbe5f88-f720-4b5e-88f7-b1ed777dcbba",
   "metadata": {},
   "source": [
    "This is often a handy thing to do because a huge data set as in this case contains more than 10, 000 rows often have some duplicate data which might be disturbing, so here I remove all the duplicate value from the data-set. For example prior to removing I had 11914 rows of data but after removing the duplicates 10925 data meaning that I had 989 of duplicate data."
   ]
  },
  {
   "cell_type": "code",
   "execution_count": 10,
   "id": "e7977f7a-1225-4e8d-8e9f-86cb5dbaa835",
   "metadata": {},
   "outputs": [
    {
     "data": {
      "text/plain": [
       "(2823, 9)"
      ]
     },
     "execution_count": 10,
     "metadata": {},
     "output_type": "execute_result"
    }
   ],
   "source": [
    "kaptagat_springs_df.shape"
   ]
  },
  {
   "cell_type": "code",
   "execution_count": 11,
   "id": "37f19416-fee2-42e2-9422-40af82b7e69a",
   "metadata": {},
   "outputs": [
    {
     "name": "stdout",
     "output_type": "stream",
     "text": [
      "number of duplicate rows:  (230, 9)\n"
     ]
    }
   ],
   "source": [
    "duplicate_rows_df = kaptagat_springs_df[kaptagat_springs_df.duplicated()]\n",
    "print(\"number of duplicate rows: \", duplicate_rows_df.shape)"
   ]
  },
  {
   "cell_type": "markdown",
   "id": "5e1444f4-2ce2-4913-beb2-8f0c494e7640",
   "metadata": {},
   "source": [
    "Now let us remove the duplicate data because it's ok to remove them."
   ]
  },
  {
   "cell_type": "code",
   "execution_count": 12,
   "id": "c0eecf56-d81a-4d29-b240-012656ac0fc7",
   "metadata": {},
   "outputs": [
    {
     "data": {
      "text/plain": [
       "Customer ID         2823\n",
       "Quantity Ordered    2823\n",
       "Unit Price          2823\n",
       "Total Sales         2823\n",
       "Transaction Date    2823\n",
       "Shipping Status     2823\n",
       "Year                2823\n",
       "Product Type        2823\n",
       "Customer Name       2823\n",
       "dtype: int64"
      ]
     },
     "execution_count": 12,
     "metadata": {},
     "output_type": "execute_result"
    }
   ],
   "source": [
    "kaptagat_springs_df.count()"
   ]
  },
  {
   "cell_type": "markdown",
   "id": "4b75f156-e58f-4fd3-930b-d97e5dc1b4af",
   "metadata": {},
   "source": [
    "So seen above there are 2823 rows and we are removing 230 rows of duplicate data.\n",
    "\n"
   ]
  },
  {
   "cell_type": "code",
   "execution_count": 13,
   "id": "a2c9bfd6-249d-4ad2-877b-6bdcdaf44f3b",
   "metadata": {},
   "outputs": [
    {
     "data": {
      "text/html": [
       "<div>\n",
       "<style scoped>\n",
       "    .dataframe tbody tr th:only-of-type {\n",
       "        vertical-align: middle;\n",
       "    }\n",
       "\n",
       "    .dataframe tbody tr th {\n",
       "        vertical-align: top;\n",
       "    }\n",
       "\n",
       "    .dataframe thead th {\n",
       "        text-align: right;\n",
       "    }\n",
       "</style>\n",
       "<table border=\"1\" class=\"dataframe\">\n",
       "  <thead>\n",
       "    <tr style=\"text-align: right;\">\n",
       "      <th></th>\n",
       "      <th>Customer ID</th>\n",
       "      <th>Quantity Ordered</th>\n",
       "      <th>Unit Price</th>\n",
       "      <th>Total Sales</th>\n",
       "      <th>Transaction Date</th>\n",
       "      <th>Shipping Status</th>\n",
       "      <th>Year</th>\n",
       "      <th>Product Type</th>\n",
       "      <th>Customer Name</th>\n",
       "    </tr>\n",
       "  </thead>\n",
       "  <tbody>\n",
       "    <tr>\n",
       "      <th>0</th>\n",
       "      <td>10100</td>\n",
       "      <td>30</td>\n",
       "      <td>30</td>\n",
       "      <td>900</td>\n",
       "      <td>1/6/2013 0:00</td>\n",
       "      <td>Shipped</td>\n",
       "      <td>2013</td>\n",
       "      <td>500 ml</td>\n",
       "      <td>Sirikwa Hotel</td>\n",
       "    </tr>\n",
       "    <tr>\n",
       "      <th>1</th>\n",
       "      <td>10100</td>\n",
       "      <td>50</td>\n",
       "      <td>30</td>\n",
       "      <td>1500</td>\n",
       "      <td>1/6/2013 0:00</td>\n",
       "      <td>Shipped</td>\n",
       "      <td>2013</td>\n",
       "      <td>500 ml</td>\n",
       "      <td>Sirikwa Hotel</td>\n",
       "    </tr>\n",
       "    <tr>\n",
       "      <th>2</th>\n",
       "      <td>10100</td>\n",
       "      <td>22</td>\n",
       "      <td>30</td>\n",
       "      <td>660</td>\n",
       "      <td>1/6/2013 0:00</td>\n",
       "      <td>Shipped</td>\n",
       "      <td>2013</td>\n",
       "      <td>500 ml</td>\n",
       "      <td>Sirikwa Hotel</td>\n",
       "    </tr>\n",
       "    <tr>\n",
       "      <th>3</th>\n",
       "      <td>10100</td>\n",
       "      <td>49</td>\n",
       "      <td>30</td>\n",
       "      <td>1470</td>\n",
       "      <td>1/6/2013 0:00</td>\n",
       "      <td>Shipped</td>\n",
       "      <td>2013</td>\n",
       "      <td>500 ml</td>\n",
       "      <td>Sirikwa Hotel</td>\n",
       "    </tr>\n",
       "    <tr>\n",
       "      <th>4</th>\n",
       "      <td>10101</td>\n",
       "      <td>25</td>\n",
       "      <td>30</td>\n",
       "      <td>750</td>\n",
       "      <td>1/9/2013 0:00</td>\n",
       "      <td>Shipped</td>\n",
       "      <td>2013</td>\n",
       "      <td>500 ml</td>\n",
       "      <td>Sirikwa Hotel</td>\n",
       "    </tr>\n",
       "  </tbody>\n",
       "</table>\n",
       "</div>"
      ],
      "text/plain": [
       "   Customer ID  Quantity Ordered  Unit Price  Total Sales Transaction Date  \\\n",
       "0        10100                30          30          900    1/6/2013 0:00   \n",
       "1        10100                50          30         1500    1/6/2013 0:00   \n",
       "2        10100                22          30          660    1/6/2013 0:00   \n",
       "3        10100                49          30         1470    1/6/2013 0:00   \n",
       "4        10101                25          30          750    1/9/2013 0:00   \n",
       "\n",
       "  Shipping Status  Year Product Type  Customer Name  \n",
       "0         Shipped  2013       500 ml  Sirikwa Hotel  \n",
       "1         Shipped  2013       500 ml  Sirikwa Hotel  \n",
       "2         Shipped  2013       500 ml  Sirikwa Hotel  \n",
       "3         Shipped  2013       500 ml  Sirikwa Hotel  \n",
       "4         Shipped  2013       500 ml  Sirikwa Hotel  "
      ]
     },
     "execution_count": 13,
     "metadata": {},
     "output_type": "execute_result"
    }
   ],
   "source": [
    "kaptagat_springs_df = kaptagat_springs_df.drop_duplicates()\n",
    "kaptagat_springs_df.head(5)"
   ]
  },
  {
   "cell_type": "code",
   "execution_count": 14,
   "id": "b6c88bb2-c23f-4e5d-99e4-6c36fc567f0d",
   "metadata": {},
   "outputs": [
    {
     "data": {
      "text/plain": [
       "Customer ID         2593\n",
       "Quantity Ordered    2593\n",
       "Unit Price          2593\n",
       "Total Sales         2593\n",
       "Transaction Date    2593\n",
       "Shipping Status     2593\n",
       "Year                2593\n",
       "Product Type        2593\n",
       "Customer Name       2593\n",
       "dtype: int64"
      ]
     },
     "execution_count": 14,
     "metadata": {},
     "output_type": "execute_result"
    }
   ],
   "source": [
    "kaptagat_springs_df.count()"
   ]
  },
  {
   "cell_type": "markdown",
   "id": "0c554c0a-d4bc-42ce-b8c5-eee96bb59282",
   "metadata": {},
   "source": [
    "## 7. Dropping the missing or null values\r\n"
   ]
  },
  {
   "cell_type": "markdown",
   "id": "4c846d9c-bbff-4f0e-a7ad-86587499a05f",
   "metadata": {},
   "source": [
    "This is mostly similar to the previous step but in here all the missing values are detected and are dropped later. Now, this is not a good approach to do so, because many people just replace the missing values with the mean or the average of that column, but in this case, I just dropped that missing values. This is because there is nearly 100 missing value compared to 10, 000 values this is a small number and this is negligible so I just dropped those values."
   ]
  },
  {
   "cell_type": "code",
   "execution_count": 15,
   "id": "10dd2a2e-ffa2-411f-bbf6-6e146358c564",
   "metadata": {},
   "outputs": [
    {
     "name": "stdout",
     "output_type": "stream",
     "text": [
      "Customer ID         0\n",
      "Quantity Ordered    0\n",
      "Unit Price          0\n",
      "Total Sales         0\n",
      "Transaction Date    0\n",
      "Shipping Status     0\n",
      "Year                0\n",
      "Product Type        0\n",
      "Customer Name       0\n",
      "dtype: int64\n"
     ]
    }
   ],
   "source": [
    "print(kaptagat_springs_df.isnull().sum())"
   ]
  },
  {
   "cell_type": "markdown",
   "id": "6529d052-d79b-4b47-acb1-13ffcddfbd40",
   "metadata": {},
   "source": [
    "We dont have missing values"
   ]
  },
  {
   "cell_type": "markdown",
   "id": "80c3fb8a-bd54-4d83-b9a2-e5b77bc5c995",
   "metadata": {},
   "source": [
    "## 8. Detecting Outliers\r\n"
   ]
  },
  {
   "cell_type": "markdown",
   "id": "f9bd7da3-c07a-4dd3-a9f0-9f628eeacced",
   "metadata": {},
   "source": [
    "An outlier is a point or set of points that are different from other points. Sometimes they can be very high or very low. It's often a good idea to detect and remove the outliers. Because outliers are one of the primary reasons for resulting in a less accurate model. Hence it's a good idea to remove them. The outlier detection and removing that I am going to perform is called IQR score technique. Often outliers can be seen with visualizations using a box plot. Shown below are the box plot of MSRP, Cylinders, Horsepower and EngineSize. Herein all the plots, you can find some points are outside the box they are none other than outliers."
   ]
  },
  {
   "cell_type": "code",
   "execution_count": 17,
   "id": "af8d443d-3275-403d-bb54-7b96313ef807",
   "metadata": {},
   "outputs": [
    {
     "data": {
      "text/plain": [
       "<Axes: xlabel='Total Sales'>"
      ]
     },
     "execution_count": 17,
     "metadata": {},
     "output_type": "execute_result"
    },
    {
     "data": {
      "image/png": "[encoded data removed]",
      "text/plain": [
       "<Figure size 640x480 with 1 Axes>"
      ]
     },
     "metadata": {},
     "output_type": "display_data"
    }
   ],
   "source": [
    "sns.boxplot(x=kaptagat_springs_df['Total Sales'])"
   ]
  },
  {
   "cell_type": "code",
   "execution_count": 18,
   "id": "fb5f8e2c-f753-4179-93bc-4c44233b43b5",
   "metadata": {},
   "outputs": [
    {
     "data": {
      "text/html": [
       "<div>\n",
       "<style scoped>\n",
       "    .dataframe tbody tr th:only-of-type {\n",
       "        vertical-align: middle;\n",
       "    }\n",
       "\n",
       "    .dataframe tbody tr th {\n",
       "        vertical-align: top;\n",
       "    }\n",
       "\n",
       "    .dataframe thead th {\n",
       "        text-align: right;\n",
       "    }\n",
       "</style>\n",
       "<table border=\"1\" class=\"dataframe\">\n",
       "  <thead>\n",
       "    <tr style=\"text-align: right;\">\n",
       "      <th></th>\n",
       "      <th>Customer ID</th>\n",
       "      <th>Quantity Ordered</th>\n",
       "      <th>Unit Price</th>\n",
       "      <th>Total Sales</th>\n",
       "      <th>Transaction Date</th>\n",
       "      <th>Shipping Status</th>\n",
       "      <th>Year</th>\n",
       "      <th>Product Type</th>\n",
       "      <th>Customer Name</th>\n",
       "    </tr>\n",
       "  </thead>\n",
       "  <tbody>\n",
       "    <tr>\n",
       "      <th>0</th>\n",
       "      <td>10100</td>\n",
       "      <td>30</td>\n",
       "      <td>30</td>\n",
       "      <td>900</td>\n",
       "      <td>1/6/2013 0:00</td>\n",
       "      <td>Shipped</td>\n",
       "      <td>2013</td>\n",
       "      <td>500 ml</td>\n",
       "      <td>Sirikwa Hotel</td>\n",
       "    </tr>\n",
       "    <tr>\n",
       "      <th>1</th>\n",
       "      <td>10100</td>\n",
       "      <td>50</td>\n",
       "      <td>30</td>\n",
       "      <td>1500</td>\n",
       "      <td>1/6/2013 0:00</td>\n",
       "      <td>Shipped</td>\n",
       "      <td>2013</td>\n",
       "      <td>500 ml</td>\n",
       "      <td>Sirikwa Hotel</td>\n",
       "    </tr>\n",
       "    <tr>\n",
       "      <th>2</th>\n",
       "      <td>10100</td>\n",
       "      <td>22</td>\n",
       "      <td>30</td>\n",
       "      <td>660</td>\n",
       "      <td>1/6/2013 0:00</td>\n",
       "      <td>Shipped</td>\n",
       "      <td>2013</td>\n",
       "      <td>500 ml</td>\n",
       "      <td>Sirikwa Hotel</td>\n",
       "    </tr>\n",
       "    <tr>\n",
       "      <th>3</th>\n",
       "      <td>10100</td>\n",
       "      <td>49</td>\n",
       "      <td>30</td>\n",
       "      <td>1470</td>\n",
       "      <td>1/6/2013 0:00</td>\n",
       "      <td>Shipped</td>\n",
       "      <td>2013</td>\n",
       "      <td>500 ml</td>\n",
       "      <td>Sirikwa Hotel</td>\n",
       "    </tr>\n",
       "    <tr>\n",
       "      <th>4</th>\n",
       "      <td>10101</td>\n",
       "      <td>25</td>\n",
       "      <td>30</td>\n",
       "      <td>750</td>\n",
       "      <td>1/9/2013 0:00</td>\n",
       "      <td>Shipped</td>\n",
       "      <td>2013</td>\n",
       "      <td>500 ml</td>\n",
       "      <td>Sirikwa Hotel</td>\n",
       "    </tr>\n",
       "  </tbody>\n",
       "</table>\n",
       "</div>"
      ],
      "text/plain": [
       "   Customer ID  Quantity Ordered  Unit Price  Total Sales Transaction Date  \\\n",
       "0        10100                30          30          900    1/6/2013 0:00   \n",
       "1        10100                50          30         1500    1/6/2013 0:00   \n",
       "2        10100                22          30          660    1/6/2013 0:00   \n",
       "3        10100                49          30         1470    1/6/2013 0:00   \n",
       "4        10101                25          30          750    1/9/2013 0:00   \n",
       "\n",
       "  Shipping Status  Year Product Type  Customer Name  \n",
       "0         Shipped  2013       500 ml  Sirikwa Hotel  \n",
       "1         Shipped  2013       500 ml  Sirikwa Hotel  \n",
       "2         Shipped  2013       500 ml  Sirikwa Hotel  \n",
       "3         Shipped  2013       500 ml  Sirikwa Hotel  \n",
       "4         Shipped  2013       500 ml  Sirikwa Hotel  "
      ]
     },
     "execution_count": 18,
     "metadata": {},
     "output_type": "execute_result"
    }
   ],
   "source": [
    "kaptagat_springs_df.head(5)"
   ]
  },
  {
   "cell_type": "code",
   "execution_count": 19,
   "id": "a8a21504-c161-4a78-8373-7d11bc19bac1",
   "metadata": {},
   "outputs": [
    {
     "data": {
      "image/png": "[encoded data removed]",
      "text/plain": [
       "<Figure size 800x600 with 2 Axes>"
      ]
     },
     "metadata": {},
     "output_type": "display_data"
    }
   ],
   "source": [
    "# Selecting numerical columns for correlation matrix\n",
    "numerical_df = kaptagat_springs_df[['Quantity Ordered', 'Unit Price', 'Total Sales', 'Year']]\n",
    "\n",
    "# Calculating the correlation matrix\n",
    "corr_matrix = numerical_df.corr()\n",
    "\n",
    "# Plotting the heatmap\n",
    "plt.figure(figsize=(8, 6))\n",
    "sns.heatmap(corr_matrix, annot=True, cmap='coolwarm', linewidths=0.5)\n",
    "plt.title('Correlation Matrix Heatmap')\n",
    "plt.show()"
   ]
  },
  {
   "cell_type": "markdown",
   "id": "25ebfd32-b52f-4370-9706-2af91b5961fb",
   "metadata": {},
   "source": [
    "# 9.Conclusion\n",
    "\n",
    "## 1.Quantity Ordered and Total Sales:\n",
    "There is a strong positive correlation between Quantity Ordered and Total Sales, indicating that an increase in the quantity ordered results in a significant increase in total sales. This is a logical relationship since total sales are calculated as Quantity Ordered * Unit Price.\n",
    "\n",
    "## 2.Quantity Ordered and Unit Price:\n",
    "There is no correlation between Quantity Ordered and Unit Price. This is expected as the unit price remains constant at 30 for all entries in this dataset.\n",
    "\n",
    "## 3.Unit Price and Total Sales:\n",
    "There is no significant correlation between Unit Price and Total Sales in this dataset due to the constant unit price. In a more varied dataset, this relationship could be more informative.\n",
    "\n",
    "## 4.Year and Other Variables:\n",
    "The year has no correlation with other numerical variables, as expected, since all transactions occurred in 2013.\n",
    "The key takeaway is the strong relationship between the quantity ordered and total sales, which can be used for forecasting and strategic planning in sales operations."
   ]
  },
  {
   "cell_type": "code",
   "execution_count": null,
   "id": "79373334-1105-4707-bb84-5153e26c587b",
   "metadata": {},
   "outputs": [],
   "source": []
  }
 ],
 "metadata": {
  "kernelspec": {
   "display_name": "Python 3 (ipykernel)",
   "language": "python",
   "name": "python3"
  },
  "language_info": {
   "codemirror_mode": {
    "name": "ipython",
    "version": 3
   },
   "file_extension": ".py",
   "mimetype": "text/x-python",
   "name": "python",
   "nbconvert_exporter": "python",
   "pygments_lexer": "ipython3",
   "version": "3.11.7"
  }
 },
 "nbformat": 4,
 "nbformat_minor": 5
}
